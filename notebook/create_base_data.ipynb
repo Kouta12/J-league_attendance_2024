{
 "cells": [
  {
   "cell_type": "code",
   "execution_count": 10,
   "metadata": {},
   "outputs": [],
   "source": [
    "import pandas as pd \n",
    "import numpy as np \n",
    "import matplotlib.pyplot as plt  "
   ]
  },
  {
   "cell_type": "markdown",
   "metadata": {},
   "source": [
    "## データの情報を見る"
   ]
  },
  {
   "cell_type": "code",
   "execution_count": 11,
   "metadata": {},
   "outputs": [
    {
     "name": "stdout",
     "output_type": "stream",
     "text": [
      "<class 'pandas.core.frame.DataFrame'>\n",
      "RangeIndex: 3672 entries, 0 to 3671\n",
      "Data columns (total 13 columns):\n",
      " #   Column         Non-Null Count  Dtype  \n",
      "---  ------         --------------  -----  \n",
      " 0   id             3672 non-null   int64  \n",
      " 1   match_date     3672 non-null   object \n",
      " 2   kick_off_time  3672 non-null   object \n",
      " 3   section        3672 non-null   object \n",
      " 4   round          3672 non-null   object \n",
      " 5   home_team      3672 non-null   object \n",
      " 6   away_team      3672 non-null   object \n",
      " 7   venue          3672 non-null   object \n",
      " 8   weather        3672 non-null   object \n",
      " 9   temperature    3672 non-null   float64\n",
      " 10  humidity       3672 non-null   int64  \n",
      " 11  broadcasters   3672 non-null   object \n",
      " 12  attendance     3672 non-null   int64  \n",
      "dtypes: float64(1), int64(3), object(9)\n",
      "memory usage: 373.1+ KB\n"
     ]
    }
   ],
   "source": [
    "train_df = pd.read_csv(\"../data/train.csv\")\n",
    "test_df = pd.read_csv(\"../data/test.csv\")\n",
    "train_df.info()"
   ]
  },
  {
   "cell_type": "code",
   "execution_count": 12,
   "metadata": {},
   "outputs": [
    {
     "name": "stdout",
     "output_type": "stream",
     "text": [
      "<class 'pandas.core.frame.DataFrame'>\n",
      "RangeIndex: 120 entries, 0 to 119\n",
      "Data columns (total 3 columns):\n",
      " #   Column    Non-Null Count  Dtype \n",
      "---  ------    --------------  ----- \n",
      " 0   venue     120 non-null    object\n",
      " 1   capacity  120 non-null    int64 \n",
      " 2   address   120 non-null    object\n",
      "dtypes: int64(1), object(2)\n",
      "memory usage: 2.9+ KB\n"
     ]
    }
   ],
   "source": [
    "venue_info_df = pd.read_csv(\"../data/venue_information.csv\")\n",
    "# venue_info_df.head(5)\n",
    "venue_info_df.info()\n"
   ]
  },
  {
   "cell_type": "code",
   "execution_count": 13,
   "metadata": {},
   "outputs": [
    {
     "name": "stdout",
     "output_type": "stream",
     "text": [
      "<class 'pandas.core.frame.DataFrame'>\n",
      "RangeIndex: 4284 entries, 0 to 4283\n",
      "Data columns (total 25 columns):\n",
      " #   Column              Non-Null Count  Dtype \n",
      "---  ------              --------------  ----- \n",
      " 0   id                  4284 non-null   int64 \n",
      " 1   home_team_player11  4284 non-null   object\n",
      " 2   home_team_player10  4284 non-null   object\n",
      " 3   home_team_player9   4284 non-null   object\n",
      " 4   home_team_player8   4284 non-null   object\n",
      " 5   home_team_player7   4284 non-null   object\n",
      " 6   home_team_player6   4284 non-null   object\n",
      " 7   home_team_player5   4284 non-null   object\n",
      " 8   home_team_player4   4284 non-null   object\n",
      " 9   home_team_player3   4284 non-null   object\n",
      " 10  home_team_player2   4284 non-null   object\n",
      " 11  home_team_player1   4284 non-null   object\n",
      " 12  home_team_score     4284 non-null   int64 \n",
      " 13  away_team_score     4284 non-null   int64 \n",
      " 14  away_team_player1   4284 non-null   object\n",
      " 15  away_team_player2   4284 non-null   object\n",
      " 16  away_team_player3   4284 non-null   object\n",
      " 17  away_team_player4   4284 non-null   object\n",
      " 18  away_team_player5   4284 non-null   object\n",
      " 19  away_team_player6   4284 non-null   object\n",
      " 20  away_team_player7   4284 non-null   object\n",
      " 21  away_team_player8   4284 non-null   object\n",
      " 22  away_team_player9   4284 non-null   object\n",
      " 23  away_team_player10  4284 non-null   object\n",
      " 24  away_team_player11  4284 non-null   object\n",
      "dtypes: int64(3), object(22)\n",
      "memory usage: 836.8+ KB\n"
     ]
    }
   ],
   "source": [
    "match_reports_df = pd.read_csv(\"../data/match_reports.csv\")\n",
    "# match_reports_df.head()\n",
    "match_reports_df.info()"
   ]
  },
  {
   "cell_type": "code",
   "execution_count": 14,
   "metadata": {},
   "outputs": [
    {
     "name": "stdout",
     "output_type": "stream",
     "text": [
      "<class 'pandas.core.frame.DataFrame'>\n",
      "RangeIndex: 245 entries, 0 to 244\n",
      "Data columns (total 2 columns):\n",
      " #   Column        Non-Null Count  Dtype \n",
      "---  ------        --------------  ----- \n",
      " 0   holiday_date  245 non-null    object\n",
      " 1   description   245 non-null    object\n",
      "dtypes: object(2)\n",
      "memory usage: 4.0+ KB\n"
     ]
    }
   ],
   "source": [
    "holidaysinjapan_df = pd.read_csv(\"../data/holidays_in_japan.csv\")\n",
    "holidaysinjapan_df.info()"
   ]
  },
  {
   "cell_type": "code",
   "execution_count": 15,
   "metadata": {},
   "outputs": [
    {
     "data": {
      "text/plain": [
       "id                       0\n",
       "match_date               0\n",
       "kick_off_time            0\n",
       "section                  0\n",
       "round                    0\n",
       "home_team                0\n",
       "away_team                0\n",
       "venue                    0\n",
       "weather                  0\n",
       "temperature              0\n",
       "humidity                 0\n",
       "broadcasters             0\n",
       "attendance               0\n",
       "capacity                 0\n",
       "address                  0\n",
       "home_team_player11       0\n",
       "home_team_player10       0\n",
       "home_team_player9        0\n",
       "home_team_player8        0\n",
       "home_team_player7        0\n",
       "home_team_player6        0\n",
       "home_team_player5        0\n",
       "home_team_player4        0\n",
       "home_team_player3        0\n",
       "home_team_player2        0\n",
       "home_team_player1        0\n",
       "home_team_score          0\n",
       "away_team_score          0\n",
       "away_team_player1        0\n",
       "away_team_player2        0\n",
       "away_team_player3        0\n",
       "away_team_player4        0\n",
       "away_team_player5        0\n",
       "away_team_player6        0\n",
       "away_team_player7        0\n",
       "away_team_player8        0\n",
       "away_team_player9        0\n",
       "away_team_player10       0\n",
       "away_team_player11       0\n",
       "holiday_date          3387\n",
       "description           3387\n",
       "dtype: int64"
      ]
     },
     "metadata": {},
     "output_type": "display_data"
    },
    {
     "data": {
      "text/plain": [
       "id                      0\n",
       "match_date              0\n",
       "kick_off_time           0\n",
       "section                 0\n",
       "round                   0\n",
       "home_team               0\n",
       "away_team               0\n",
       "venue                   0\n",
       "weather                 0\n",
       "temperature             0\n",
       "humidity                0\n",
       "broadcasters            0\n",
       "capacity                0\n",
       "address                 0\n",
       "home_team_player11      0\n",
       "home_team_player10      0\n",
       "home_team_player9       0\n",
       "home_team_player8       0\n",
       "home_team_player7       0\n",
       "home_team_player6       0\n",
       "home_team_player5       0\n",
       "home_team_player4       0\n",
       "home_team_player3       0\n",
       "home_team_player2       0\n",
       "home_team_player1       0\n",
       "home_team_score         0\n",
       "away_team_score         0\n",
       "away_team_player1       0\n",
       "away_team_player2       0\n",
       "away_team_player3       0\n",
       "away_team_player4       0\n",
       "away_team_player5       0\n",
       "away_team_player6       0\n",
       "away_team_player7       0\n",
       "away_team_player8       0\n",
       "away_team_player9       0\n",
       "away_team_player10      0\n",
       "away_team_player11      0\n",
       "holiday_date          570\n",
       "description           570\n",
       "dtype: int64"
      ]
     },
     "metadata": {},
     "output_type": "display_data"
    }
   ],
   "source": [
    "train_df = pd.read_csv(\"../data/train.csv\")\n",
    "venue_info_df = pd.read_csv(\"../data/venue_information.csv\")\n",
    "match_reports_df = pd.read_csv(\"../data/match_reports.csv\")\n",
    "holidaysinjapan_df = pd.read_csv(\"../data/holidays_in_japan.csv\")\n",
    "\n",
    "train_df = train_df.merge(venue_info_df, how=\"left\", on=\"venue\")\n",
    "train_df = train_df.merge(match_reports_df, how=\"left\", on=\"id\")\n",
    "train_df = train_df.merge(holidaysinjapan_df, how=\"left\", left_on=\"match_date\", right_on=\"holiday_date\")\n",
    "test_df = test_df.merge(venue_info_df, how=\"left\", on=\"venue\")\n",
    "test_df = test_df.merge(match_reports_df, how=\"left\", on=\"id\")\n",
    "test_df = test_df.merge(holidaysinjapan_df, how=\"left\", left_on=\"match_date\", right_on=\"holiday_date\")\n",
    "# train_df.info()\n",
    "display(train_df.isnull().sum())\n",
    "display(test_df.isnull().sum())"
   ]
  },
  {
   "cell_type": "code",
   "execution_count": 21,
   "metadata": {},
   "outputs": [],
   "source": [
    "train_df.to_csv(\"../function_data/train.csv\", index=False)\n",
    "test_df.to_csv(\"../function_data/test.csv\", index=False)"
   ]
  },
  {
   "cell_type": "code",
   "execution_count": 18,
   "metadata": {},
   "outputs": [
    {
     "name": "stdout",
     "output_type": "stream",
     "text": [
      "<class 'pandas.core.frame.DataFrame'>\n",
      "Int64Index: 3672 entries, 0 to 3671\n",
      "Data columns (total 41 columns):\n",
      " #   Column              Non-Null Count  Dtype         \n",
      "---  ------              --------------  -----         \n",
      " 0   id                  3672 non-null   int64         \n",
      " 1   match_date          3672 non-null   datetime64[ns]\n",
      " 2   kick_off_time       3672 non-null   object        \n",
      " 3   section             3672 non-null   object        \n",
      " 4   round               3672 non-null   object        \n",
      " 5   home_team           3672 non-null   object        \n",
      " 6   away_team           3672 non-null   object        \n",
      " 7   venue               3672 non-null   object        \n",
      " 8   weather             3672 non-null   object        \n",
      " 9   temperature         3672 non-null   float64       \n",
      " 10  humidity            3672 non-null   int64         \n",
      " 11  broadcasters        3672 non-null   object        \n",
      " 12  attendance          3672 non-null   int64         \n",
      " 13  capacity            3672 non-null   int64         \n",
      " 14  address             3672 non-null   object        \n",
      " 15  home_team_player11  3672 non-null   object        \n",
      " 16  home_team_player10  3672 non-null   object        \n",
      " 17  home_team_player9   3672 non-null   object        \n",
      " 18  home_team_player8   3672 non-null   object        \n",
      " 19  home_team_player7   3672 non-null   object        \n",
      " 20  home_team_player6   3672 non-null   object        \n",
      " 21  home_team_player5   3672 non-null   object        \n",
      " 22  home_team_player4   3672 non-null   object        \n",
      " 23  home_team_player3   3672 non-null   object        \n",
      " 24  home_team_player2   3672 non-null   object        \n",
      " 25  home_team_player1   3672 non-null   object        \n",
      " 26  home_team_score     3672 non-null   int64         \n",
      " 27  away_team_score     3672 non-null   int64         \n",
      " 28  away_team_player1   3672 non-null   object        \n",
      " 29  away_team_player2   3672 non-null   object        \n",
      " 30  away_team_player3   3672 non-null   object        \n",
      " 31  away_team_player4   3672 non-null   object        \n",
      " 32  away_team_player5   3672 non-null   object        \n",
      " 33  away_team_player6   3672 non-null   object        \n",
      " 34  away_team_player7   3672 non-null   object        \n",
      " 35  away_team_player8   3672 non-null   object        \n",
      " 36  away_team_player9   3672 non-null   object        \n",
      " 37  away_team_player10  3672 non-null   object        \n",
      " 38  away_team_player11  3672 non-null   object        \n",
      " 39  holiday_date        285 non-null    object        \n",
      " 40  description         285 non-null    object        \n",
      "dtypes: datetime64[ns](1), float64(1), int64(6), object(33)\n",
      "memory usage: 1.2+ MB\n"
     ]
    }
   ],
   "source": [
    "train_df.info()"
   ]
  },
  {
   "cell_type": "code",
   "execution_count": null,
   "metadata": {},
   "outputs": [],
   "source": []
  }
 ],
 "metadata": {
  "kernelspec": {
   "display_name": "lightgbm_predict_model",
   "language": "python",
   "name": "python3"
  },
  "language_info": {
   "codemirror_mode": {
    "name": "ipython",
    "version": 3
   },
   "file_extension": ".py",
   "mimetype": "text/x-python",
   "name": "python",
   "nbconvert_exporter": "python",
   "pygments_lexer": "ipython3",
   "version": "3.10.14"
  }
 },
 "nbformat": 4,
 "nbformat_minor": 2
}
